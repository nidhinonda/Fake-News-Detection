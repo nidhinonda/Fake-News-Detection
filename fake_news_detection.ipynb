{
  "nbformat": 4,
  "nbformat_minor": 0,
  "metadata": {
    "colab": {
      "name": "project.ipynb",
      "provenance": [],
      "collapsed_sections": [],
      "authorship_tag": "ABX9TyOOSlBJ4ZnvZKerfiMB29zG",
      "include_colab_link": true
    },
    "kernelspec": {
      "name": "python3",
      "display_name": "Python 3"
    }
  },
  "cells": [
    {
      "cell_type": "markdown",
      "metadata": {
        "id": "view-in-github",
        "colab_type": "text"
      },
      "source": [
        "<a href=\"https://colab.research.google.com/github/nidhinonda/Fake-News-Detection/blob/master/fake_news_detection.ipynb\" target=\"_parent\"><img src=\"https://colab.research.google.com/assets/colab-badge.svg\" alt=\"Open In Colab\"/></a>"
      ]
    },
    {
      "cell_type": "markdown",
      "metadata": {
        "id": "yR25jGdc-V-G",
        "colab_type": "text"
      },
      "source": [
        "**Importing libraries**"
      ]
    },
    {
      "cell_type": "code",
      "metadata": {
        "id": "RtiyIUq2eK_d",
        "colab_type": "code",
        "colab": {
          "base_uri": "https://localhost:8080/",
          "height": 70
        },
        "outputId": "feea53c0-52ca-4f09-a0f2-632d69812ebd"
      },
      "source": [
        "import pandas as pd\n",
        "import numpy as np\n",
        "import matplotlib.pyplot as plt\n",
        "import seaborn as sns\n",
        "%matplotlib inline"
      ],
      "execution_count": 1,
      "outputs": [
        {
          "output_type": "stream",
          "text": [
            "/usr/local/lib/python3.6/dist-packages/statsmodels/tools/_testing.py:19: FutureWarning: pandas.util.testing is deprecated. Use the functions in the public API at pandas.testing instead.\n",
            "  import pandas.util.testing as tm\n"
          ],
          "name": "stderr"
        }
      ]
    },
    {
      "cell_type": "markdown",
      "metadata": {
        "id": "S1ht8Ddl-eHY",
        "colab_type": "text"
      },
      "source": [
        "**Loading Dataset**\n",
        "\n",
        "\n"
      ]
    },
    {
      "cell_type": "code",
      "metadata": {
        "id": "Yrqm-6Dxfgha",
        "colab_type": "code",
        "colab": {}
      },
      "source": [
        "df=pd.read_csv('news.csv')"
      ],
      "execution_count": 2,
      "outputs": []
    },
    {
      "cell_type": "code",
      "metadata": {
        "id": "4pD9iA2IfggB",
        "colab_type": "code",
        "colab": {
          "base_uri": "https://localhost:8080/",
          "height": 296
        },
        "outputId": "904e0300-2b34-4610-81bf-6091cfb4673d"
      },
      "source": [
        "df.head()"
      ],
      "execution_count": 3,
      "outputs": [
        {
          "output_type": "execute_result",
          "data": {
            "text/html": [
              "<div>\n",
              "<style scoped>\n",
              "    .dataframe tbody tr th:only-of-type {\n",
              "        vertical-align: middle;\n",
              "    }\n",
              "\n",
              "    .dataframe tbody tr th {\n",
              "        vertical-align: top;\n",
              "    }\n",
              "\n",
              "    .dataframe thead th {\n",
              "        text-align: right;\n",
              "    }\n",
              "</style>\n",
              "<table border=\"1\" class=\"dataframe\">\n",
              "  <thead>\n",
              "    <tr style=\"text-align: right;\">\n",
              "      <th></th>\n",
              "      <th>Unnamed: 0</th>\n",
              "      <th>title</th>\n",
              "      <th>text</th>\n",
              "      <th>label</th>\n",
              "    </tr>\n",
              "  </thead>\n",
              "  <tbody>\n",
              "    <tr>\n",
              "      <th>0</th>\n",
              "      <td>8476</td>\n",
              "      <td>You Can Smell Hillary’s Fear</td>\n",
              "      <td>Daniel Greenfield, a Shillman Journalism Fello...</td>\n",
              "      <td>FAKE</td>\n",
              "    </tr>\n",
              "    <tr>\n",
              "      <th>1</th>\n",
              "      <td>10294</td>\n",
              "      <td>Watch The Exact Moment Paul Ryan Committed Pol...</td>\n",
              "      <td>Google Pinterest Digg Linkedin Reddit Stumbleu...</td>\n",
              "      <td>FAKE</td>\n",
              "    </tr>\n",
              "    <tr>\n",
              "      <th>2</th>\n",
              "      <td>3608</td>\n",
              "      <td>Kerry to go to Paris in gesture of sympathy</td>\n",
              "      <td>U.S. Secretary of State John F. Kerry said Mon...</td>\n",
              "      <td>REAL</td>\n",
              "    </tr>\n",
              "    <tr>\n",
              "      <th>3</th>\n",
              "      <td>10142</td>\n",
              "      <td>Bernie supporters on Twitter erupt in anger ag...</td>\n",
              "      <td>— Kaydee King (@KaydeeKing) November 9, 2016 T...</td>\n",
              "      <td>FAKE</td>\n",
              "    </tr>\n",
              "    <tr>\n",
              "      <th>4</th>\n",
              "      <td>875</td>\n",
              "      <td>The Battle of New York: Why This Primary Matters</td>\n",
              "      <td>It's primary day in New York and front-runners...</td>\n",
              "      <td>REAL</td>\n",
              "    </tr>\n",
              "  </tbody>\n",
              "</table>\n",
              "</div>"
            ],
            "text/plain": [
              "   Unnamed: 0  ... label\n",
              "0        8476  ...  FAKE\n",
              "1       10294  ...  FAKE\n",
              "2        3608  ...  REAL\n",
              "3       10142  ...  FAKE\n",
              "4         875  ...  REAL\n",
              "\n",
              "[5 rows x 4 columns]"
            ]
          },
          "metadata": {
            "tags": []
          },
          "execution_count": 3
        }
      ]
    },
    {
      "cell_type": "code",
      "metadata": {
        "id": "qUkB0dy_fgbH",
        "colab_type": "code",
        "colab": {
          "base_uri": "https://localhost:8080/",
          "height": 118
        },
        "outputId": "8e5d3182-3e37-44c6-d26b-3a574c76622c"
      },
      "source": [
        "#DataFlair - Get the labels\n",
        "labels=df.label\n",
        "labels.head()"
      ],
      "execution_count": 4,
      "outputs": [
        {
          "output_type": "execute_result",
          "data": {
            "text/plain": [
              "0    FAKE\n",
              "1    FAKE\n",
              "2    REAL\n",
              "3    FAKE\n",
              "4    REAL\n",
              "Name: label, dtype: object"
            ]
          },
          "metadata": {
            "tags": []
          },
          "execution_count": 4
        }
      ]
    },
    {
      "cell_type": "markdown",
      "metadata": {
        "id": "Y5eGD0GA-qpz",
        "colab_type": "text"
      },
      "source": [
        "**Checking class distributions**"
      ]
    },
    {
      "cell_type": "code",
      "metadata": {
        "id": "gSNWRh5-fgUP",
        "colab_type": "code",
        "colab": {
          "base_uri": "https://localhost:8080/",
          "height": 312
        },
        "outputId": "073199a2-bdd7-4960-b71a-bf0e1418913f"
      },
      "source": [
        "df.groupby(\"label\")['title'].count().plot.bar()"
      ],
      "execution_count": 5,
      "outputs": [
        {
          "output_type": "execute_result",
          "data": {
            "text/plain": [
              "<matplotlib.axes._subplots.AxesSubplot at 0x7f2935c3e748>"
            ]
          },
          "metadata": {
            "tags": []
          },
          "execution_count": 5
        },
        {
          "output_type": "display_data",
          "data": {
            "image/png": "[encoded data removed]",
            "text/plain": [
              "<Figure size 432x288 with 1 Axes>"
            ]
          },
          "metadata": {
            "tags": [],
            "needs_background": "light"
          }
        }
      ]
    },
    {
      "cell_type": "markdown",
      "metadata": {
        "id": "eZEXzqnH_TY5",
        "colab_type": "text"
      },
      "source": [
        "**Creating stopwords for cleaning the text**"
      ]
    },
    {
      "cell_type": "code",
      "metadata": {
        "id": "MXyU9ddhfgRa",
        "colab_type": "code",
        "colab": {
          "base_uri": "https://localhost:8080/",
          "height": 67
        },
        "outputId": "0fcb854a-e932-4d09-c48e-3cc7143ad512"
      },
      "source": [
        "import nltk\n",
        "nltk.download('stopwords')\n"
      ],
      "execution_count": 6,
      "outputs": [
        {
          "output_type": "stream",
          "text": [
            "[nltk_data] Downloading package stopwords to /root/nltk_data...\n",
            "[nltk_data]   Unzipping corpora/stopwords.zip.\n"
          ],
          "name": "stdout"
        },
        {
          "output_type": "execute_result",
          "data": {
            "text/plain": [
              "True"
            ]
          },
          "metadata": {
            "tags": []
          },
          "execution_count": 6
        }
      ]
    },
    {
      "cell_type": "code",
      "metadata": {
        "id": "K0sfvoxTumLT",
        "colab_type": "code",
        "colab": {
          "base_uri": "https://localhost:8080/",
          "height": 54
        },
        "outputId": "a8b49d3b-a751-4a6b-90b9-c7adb793cbd3"
      },
      "source": [
        "from nltk.corpus import stopwords\n",
        "from wordcloud import WordCloud, STOPWORDS \n",
        "nltk_stopwords =stopwords.words('english')[0:500:25]\n",
        "wordcloud_stopwords = STOPWORDS\n",
        "\n",
        "nltk_stopwords.extend(wordcloud_stopwords)\n",
        "\n",
        "stopwords = set(nltk_stopwords)\n",
        "print(stopwords)"
      ],
      "execution_count": 7,
      "outputs": [
        {
          "output_type": "stream",
          "text": [
            "{'down', 'most', 'because', 'being', 'doesn', 'cannot', \"wasn't\", 'you', 'were', 'only', 'else', \"he'll\", 'when', 'the', \"we'll\", \"where's\", 'www', 'against', 'into', 'r', 'both', 'it', 'again', 'an', 'ever', 'nor', \"we're\", 'those', \"wouldn't\", 'get', \"i'll\", 'here', 'below', 'not', 'having', 'his', 'is', 'off', 'just', 'i', \"there's\", 'this', 'by', 'who', 'but', 'me', \"isn't\", 'through', 'with', 'there', \"hadn't\", 'about', 'we', 'these', 'has', 'once', 'ourselves', 'until', \"they've\", \"she'll\", 'over', 'shall', 'also', \"i'd\", \"shan't\", 'from', 'him', 'very', \"it's\", 'could', \"can't\", \"how's\", 'should', 'where', \"that's\", 'com', 'itself', 'any', 'their', 'few', \"who's\", 'does', 'did', \"mustn't\", 'them', \"i've\", \"hasn't\", 'all', 'he', 'herself', \"i'm\", 'my', \"let's\", 'been', \"you'll\", \"weren't\", \"haven't\", \"we've\", 'and', \"they'd\", 'while', 'how', \"they'll\", 'am', 'each', 'k', 'own', 'further', \"shouldn't\", 'to', 'under', 'would', 'himself', \"he's\", 'of', 'other', 'can', 'have', 'won', 'if', 'such', 'before', 'yourselves', 'like', \"don't\", \"why's\", 'that', \"didn't\", 'yourself', \"they're\", 'out', 'or', 'than', 'too', 'as', 'between', 'what', 'since', 'same', 'no', 'whom', 'theirs', \"couldn't\", 'a', \"won't\", \"aren't\", 'themselves', \"you'd\", 'on', 'in', 'above', \"she'd\", 'then', 'ought', 'so', 'be', 'for', 'doing', \"she's\", 'her', \"what's\", 'its', 'hers', \"you've\", 'yours', 'do', 'up', \"when's\", 'some', 'which', 'had', 'however', 'after', 'otherwise', 'during', \"doesn't\", \"here's\", 'more', \"you're\", 'she', 'your', 'was', 'our', 'they', 'ours', 'http', \"he'd\", 'myself', 'why', \"we'd\", 'are', 'at'}\n"
          ],
          "name": "stdout"
        }
      ]
    },
    {
      "cell_type": "markdown",
      "metadata": {
        "id": "ONe5kvPV_of9",
        "colab_type": "text"
      },
      "source": [
        "**Cleaning the title feature**"
      ]
    },
    {
      "cell_type": "code",
      "metadata": {
        "id": "ZeYV1uySfgNM",
        "colab_type": "code",
        "colab": {}
      },
      "source": [
        "import re\n",
        "def clean(text):\n",
        "    text = re.sub(\"http\\S+\", '', str(text))  #removes urls(if any)\n",
        "    \n",
        "    text = re.sub(r\"he's\", \"he is\", str(text))\n",
        "    text = re.sub(r\"there's\", \"there is\", str(text))\n",
        "    text = re.sub(r\"We're\", \"We are\", str(text))\n",
        "    text = re.sub(r\"That's\", \"That is\", str(text))\n",
        "    text = re.sub(r\"won't\", \"will not\", str(text))\n",
        "    text = re.sub(r\"they're\", \"they are\", str(text))\n",
        "    text = re.sub(r\"Can't\", \"Cannot\", str(text))\n",
        "    text = re.sub(r\"wasn't\", \"was not\", str(text))\n",
        "    text = re.sub(r\"aren't\", \"are not\", str(text))\n",
        "    text = re.sub(r\"isn't\", \"is not\", str(text))\n",
        "    text = re.sub(r\"What's\", \"What is\", str(text))\n",
        "    text = re.sub(r\"haven't\", \"have not\", str(text))\n",
        "    text = re.sub(r\"hasn't\", \"has not\", str(text))\n",
        "    text = re.sub(r\"There's\", \"There is\", str(text))\n",
        "    text = re.sub(r\"He's\", \"He is\", str(text))\n",
        "    text = re.sub(r\"It's\", \"It is\", str(text))\n",
        "    text = re.sub(r\"You're\", \"You are\", str(text))\n",
        "    text = re.sub(r\"I'M\", \"I am\", str(text))\n",
        "    text = re.sub(r\"shouldn't\", \"should not\", str(text))\n",
        "    text = re.sub(r\"wouldn't\", \"would not\", str(text))\n",
        "    text = re.sub(r\"i'm\", \"I am\", str(text))\n",
        "    text = re.sub(r\"I'm\", \"I am\", str(text))\n",
        "    text = re.sub(r\"Isn't\", \"is not\", str(text))\n",
        "    text = re.sub(r\"Here's\", \"Here is\", str(text))\n",
        "    text = re.sub(r\"you've\", \"you have\", str(text))\n",
        "    text = re.sub(r\"we're\", \"we are\", str(text))\n",
        "    text = re.sub(r\"what's\", \"what is\", str(text))\n",
        "    text = re.sub(r\"couldn't\", \"could not\", str(text))\n",
        "    text = re.sub(r\"we've\", \"we have\", str(text))\n",
        "    text = re.sub(r\"who's\", \"who is\", str(text))\n",
        "    text = re.sub(r\"y'all\", \"you all\", str(text))\n",
        "    text = re.sub(r\"would've\", \"would have\", str(text))\n",
        "    text = re.sub(r\"it'll\", \"it will\", str(text))\n",
        "    text = re.sub(r\"we'll\", \"we will\", str(text))\n",
        "    text = re.sub(r\"We've\", \"We have\", str(text))\n",
        "    text = re.sub(r\"he'll\", \"he will\", str(text))\n",
        "    text = re.sub(r\"Y'all\", \"You all\", str(text))\n",
        "    text = re.sub(r\"Weren't\", \"Were not\", str(text))\n",
        "    text = re.sub(r\"Didn't\", \"Did not\", str(text))\n",
        "    text = re.sub(r\"they'll\", \"they will\", str(text))\n",
        "    text = re.sub(r\"they'd\", \"they would\", str(text))\n",
        "    text = re.sub(r\"DON'T\", \"DO NOT\", str(text))\n",
        "    text = re.sub(r\"they've\", \"they have\", str(text))\n",
        "    text = re.sub(r\"i'd\", \"I would\", str(text))\n",
        "    text = re.sub(r\"should've\", \"should have\", str(text))\n",
        "    text = re.sub(r\"where's\", \"where is\", str(text))\n",
        "    text = re.sub(r\"we'd\", \"we would\", str(text))\n",
        "    text = re.sub(r\"Here's\", \"Here is\", str(text))\n",
        "    text = re.sub(r\"you've\", \"you have\", str(text))\n",
        "    text = re.sub(r\"we're\", \"we are\", str(text))\n",
        "    text = re.sub(r\"what's\", \"what is\", str(text))\n",
        "    text = re.sub(r\"couldn't\", \"could not\", str(text))\n",
        "    text = re.sub(r\"we've\", \"we have\", str(text))\n",
        "    text = re.sub(r\"who's\", \"who is\", str(text))\n",
        "    text = re.sub(r\"y'all\", \"you all\", str(text))\n",
        "    text = re.sub(r\"would've\", \"would have\", str(text))\n",
        "    text = re.sub(r\"it'll\", \"it will\", str(text))\n",
        "    text = re.sub(r\"we'll\", \"we will\", str(text))\n",
        "    text = re.sub(r\"We've\", \"We have\", str(text))\n",
        "    text = re.sub(r\"he'll\", \"he will\", str(text))\n",
        "    text = re.sub(r\"Y'all\", \"You all\", str(text))\n",
        "    text = re.sub(r\"Weren't\", \"Were not\", str(text))\n",
        "    text = re.sub(r\"Didn't\", \"Did not\", str(text))\n",
        "    text = re.sub(r\"they'll\", \"they will\", str(text))\n",
        "    text = re.sub(r\"they'd\", \"they would\", str(text))\n",
        "    text = re.sub(r\"DON'T\", \"DO NOT\", str(text))\n",
        "    text = re.sub(r\"they've\", \"they have\", str(text))\n",
        "    text = re.sub(r\"i'd\", \"I would\", str(text))\n",
        "    text = re.sub(r\"should've\", \"should have\", str(text))\n",
        "    text = re.sub(r\"where's\", \"where is\", str(text))\n",
        "    text = re.sub(r\"we'd\", \"we would\", str(text))\n",
        "    text = re.sub(r\"i'll\", \"I will\", str(text))\n",
        "    text = re.sub(r\"weren't\", \"were not\", str(text))\n",
        "    text = re.sub(r\"They're\", \"They are\", str(text))\n",
        "    text = re.sub(r\"let's\", \"let us\", str(text))\n",
        "    text = re.sub(r\"it's\", \"it is\", str(text))\n",
        "    text = re.sub(r\"can't\", \"cannot\", str(text))\n",
        "    text = re.sub(r\"don't\", \"do not\", str(text))\n",
        "    text = re.sub(r\"you're\", \"you are\", str(text))\n",
        "    text = re.sub(r\"i've\", \"I have\", str(text))\n",
        "    text = re.sub(r\"that's\", \"that is\", str(text))\n",
        "    text = re.sub(r\"i'll\", \"I will\", str(text))\n",
        "    text = re.sub(r\"doesn't\", \"does not\", str(text))\n",
        "    text = re.sub(r\"i'd\", \"I would\", str(text))\n",
        "    text = re.sub(r\"didn't\", \"did not\", str(text))\n",
        "    text = re.sub(r\"ain't\", \"am not\", str(text))\n",
        "    text = re.sub(r\"you'll\", \"you will\", str(text))\n",
        "    text = re.sub(r\"I've\", \"I have\", str(text))\n",
        "    text = re.sub(r\"Don't\", \"do not\", str(text))\n",
        "    text = re.sub(r\"I'll\", \"I will\", str(text))\n",
        "    text = re.sub(r\"I'd\", \"I would\", str(text))\n",
        "    text = re.sub(r\"Let's\", \"Let us\", str(text))\n",
        "    text = re.sub(r\"you'd\", \"You would\", str(text))\n",
        "    text = re.sub(r\"It's\", \"It is\", str(text))\n",
        "    text = re.sub(r\"Ain't\", \"am not\", str(text))\n",
        "    text = re.sub(r\"Haven't\", \"Have not\", str(text))\n",
        "    text = re.sub(r\"Could've\", \"Could have\", str(text))\n",
        "    text = re.sub(r\"youve\", \"you have\", str(text))\n",
        "    \n",
        "    # Others\n",
        "    text = re.sub(\"U.S.\", \"United States\", str(text))\n",
        "    text = re.sub(\"Dec\", \"December\", str(text))\n",
        "    text = re.sub(\"Jan.\",\"January\", str(text))\n",
        "    \n",
        "    # Punctuations & special characters\n",
        "    text = re.sub(\"[^A-Za-z0-9]+\",\" \", str(text))\n",
        "    \n",
        "    # removes stop words\n",
        "    text = \" \".join(str(i).lower() for i in text.split() if i.lower() not in stopwords)\n",
        "\n",
        "    return text\n",
        "    "
      ],
      "execution_count": 8,
      "outputs": []
    },
    {
      "cell_type": "code",
      "metadata": {
        "id": "zB9CPN6UfgLX",
        "colab_type": "code",
        "colab": {
          "base_uri": "https://localhost:8080/",
          "height": 84
        },
        "outputId": "decf8667-28a4-4c72-8517-7ce933aefa70"
      },
      "source": [
        "df['text'] = df['text'].map(lambda x: clean(x))\n",
        "df.text.iloc[:3] #selects rows and columns by number(3 rows seledcted)"
      ],
      "execution_count": 9,
      "outputs": [
        {
          "output_type": "execute_result",
          "data": {
            "text/plain": [
              "0    daniel greenfield shillman journalism fellow f...\n",
              "1    google pinterest digg linkedin reddit stumbleu...\n",
              "2    united states secretary state john f kerry sai...\n",
              "Name: text, dtype: object"
            ]
          },
          "metadata": {
            "tags": []
          },
          "execution_count": 9
        }
      ]
    },
    {
      "cell_type": "markdown",
      "metadata": {
        "id": "i78uu09l_84n",
        "colab_type": "text"
      },
      "source": [
        "**Splitting into train,test and CV**"
      ]
    },
    {
      "cell_type": "code",
      "metadata": {
        "id": "_bls8FDMz9FA",
        "colab_type": "code",
        "colab": {
          "base_uri": "https://localhost:8080/",
          "height": 50
        },
        "outputId": "fabcbcf8-6e1b-4462-f00d-8732f12d2a45"
      },
      "source": [
        "from sklearn.model_selection import train_test_split\n",
        "X_train, X_test, y_train, y_test = train_test_split(df.drop('label',axis=1), df.label, test_size=0.2, random_state=42)\n",
        "\n",
        "print(X_train.shape, y_train.shape)\n",
        "print(X_test.shape, y_test.shape)"
      ],
      "execution_count": 10,
      "outputs": [
        {
          "output_type": "stream",
          "text": [
            "(5068, 3) (5068,)\n",
            "(1267, 3) (1267,)\n"
          ],
          "name": "stdout"
        }
      ]
    },
    {
      "cell_type": "markdown",
      "metadata": {
        "id": "6juexL-4AERe",
        "colab_type": "text"
      },
      "source": [
        "**Using sklearn TfidfVectorizer**"
      ]
    },
    {
      "cell_type": "code",
      "metadata": {
        "id": "0bvT4-WZ5HCs",
        "colab_type": "code",
        "colab": {
          "base_uri": "https://localhost:8080/",
          "height": 34
        },
        "outputId": "f08d2b91-8321-4c66-bde3-128f5e93d5d6"
      },
      "source": [
        "from sklearn.feature_extraction.text import TfidfVectorizer\n",
        "\n",
        "vectorizer = TfidfVectorizer(min_df=0.01,ngram_range=(1,3))\n",
        "vectorizer.fit(X_train.text)\n",
        "\n",
        "X_tr = vectorizer.transform(X_train.text)\n",
        "X_te = vectorizer.transform(X_test.text)\n",
        "\n",
        "print(X_tr.shape, X_te.shape)"
      ],
      "execution_count": 11,
      "outputs": [
        {
          "output_type": "stream",
          "text": [
            "(5068, 5843) (1267, 5843)\n"
          ],
          "name": "stdout"
        }
      ]
    },
    {
      "cell_type": "markdown",
      "metadata": {
        "id": "wb9J2v7FATFt",
        "colab_type": "text"
      },
      "source": [
        "**Hyperparameter tuning Logistic Regression**"
      ]
    },
    {
      "cell_type": "code",
      "metadata": {
        "id": "RJCvPPDOFnDs",
        "colab_type": "code",
        "colab": {
          "base_uri": "https://localhost:8080/",
          "height": 312
        },
        "outputId": "dd263544-126f-4138-fb8b-3955876810bf"
      },
      "source": [
        "from sklearn.linear_model import SGDClassifier\n",
        "from sklearn.model_selection import GridSearchCV, train_test_split\n",
        "from sklearn.metrics import confusion_matrix, roc_curve, auc, classification_report\n",
        "import math\n",
        "clf = SGDClassifier(loss='log')##logistic regression\n",
        "\n",
        "gs = GridSearchCV(\n",
        "    estimator = clf,\n",
        "    param_grid = {'alpha':np.logspace(-10,5,16)},\n",
        "    cv = 5,\n",
        "    return_train_score = True,\n",
        "    scoring = 'accuracy'\n",
        "    )\n",
        "\n",
        "gs.fit(X_tr,y_train)\n",
        "\n",
        "results = pd.DataFrame(gs.cv_results_)\n",
        "\n",
        "results = results.sort_values(['param_alpha'])\n",
        "train_auc = results['mean_train_score']\n",
        "cv_auc = results['mean_test_score']\n",
        "alpha = pd.Series([ math.log(i) for i in np.array(results['param_alpha']) ]) \n",
        "\n",
        "plt.plot(alpha, train_auc, label='Train AUC')\n",
        "plt.plot(alpha, cv_auc, label='CV AUC')\n",
        "plt.scatter(alpha, train_auc)\n",
        "plt.scatter(alpha, cv_auc)\n",
        "plt.legend()\n",
        "plt.xlabel('log(alpha): hyperparameter')\n",
        "plt.ylabel('Accuracy')\n",
        "plt.title('Hyperparameter vs Accuracy Plot')\n",
        "plt.grid()\n",
        "plt.show()\n",
        "\n",
        "print(gs.best_params_)"
      ],
      "execution_count": 13,
      "outputs": [
        {
          "output_type": "display_data",
          "data": {
            "image/png": "[encoded data removed]",
            "text/plain": [
              "<Figure size 432x288 with 1 Axes>"
            ]
          },
          "metadata": {
            "tags": [],
            "needs_background": "light"
          }
        },
        {
          "output_type": "stream",
          "text": [
            "{'alpha': 1e-05}\n"
          ],
          "name": "stdout"
        }
      ]
    },
    {
      "cell_type": "markdown",
      "metadata": {
        "id": "YoZ_M-CSIVf0",
        "colab_type": "text"
      },
      "source": [
        "**Training on best parameters**"
      ]
    },
    {
      "cell_type": "code",
      "metadata": {
        "id": "k_FDaeVb5G9G",
        "colab_type": "code",
        "colab": {
          "base_uri": "https://localhost:8080/",
          "height": 50
        },
        "outputId": "2838af15-a5b2-4e37-d6cb-7a88d3c83121"
      },
      "source": [
        "clf = SGDClassifier(loss='log',alpha=1e-06, random_state=42).fit(X_tr,y_train)\n",
        "\n",
        "print('Training score : %f' % clf.score(X_tr,y_train))\n",
        "print('Test score : %f' % clf.score(X_te,y_test))"
      ],
      "execution_count": 16,
      "outputs": [
        {
          "output_type": "stream",
          "text": [
            "Training score : 1.000000\n",
            "Test score : 0.928966\n"
          ],
          "name": "stdout"
        }
      ]
    },
    {
      "cell_type": "code",
      "metadata": {
        "id": "8agOiPRv5G52",
        "colab_type": "code",
        "colab": {
          "base_uri": "https://localhost:8080/",
          "height": 202
        },
        "outputId": "1be4dfb7-c1a1-40c0-cd69-4fe3bdf6f226"
      },
      "source": [
        "print(classification_report(y_train.values, clf.predict(X_tr)))\n",
        "confusion_matrix(y_train, clf.predict(X_tr))"
      ],
      "execution_count": 17,
      "outputs": [
        {
          "output_type": "stream",
          "text": [
            "              precision    recall  f1-score   support\n",
            "\n",
            "        FAKE       1.00      1.00      1.00      2536\n",
            "        REAL       1.00      1.00      1.00      2532\n",
            "\n",
            "    accuracy                           1.00      5068\n",
            "   macro avg       1.00      1.00      1.00      5068\n",
            "weighted avg       1.00      1.00      1.00      5068\n",
            "\n"
          ],
          "name": "stdout"
        },
        {
          "output_type": "execute_result",
          "data": {
            "text/plain": [
              "array([[2536,    0],\n",
              "       [   0, 2532]])"
            ]
          },
          "metadata": {
            "tags": []
          },
          "execution_count": 17
        }
      ]
    },
    {
      "cell_type": "markdown",
      "metadata": {
        "id": "4h4X2r9GIsgi",
        "colab_type": "text"
      },
      "source": [
        "**Final Test Scores**"
      ]
    },
    {
      "cell_type": "code",
      "metadata": {
        "id": "L_ERNI1LGvjH",
        "colab_type": "code",
        "colab": {
          "base_uri": "https://localhost:8080/",
          "height": 258
        },
        "outputId": "2d46db24-1523-498d-c840-3774d5b52340"
      },
      "source": [
        "print(classification_report(y_test.values, clf.predict(X_te)))\n",
        "pd.DataFrame(confusion_matrix(y_test, clf.predict(X_te)))"
      ],
      "execution_count": 26,
      "outputs": [
        {
          "output_type": "stream",
          "text": [
            "              precision    recall  f1-score   support\n",
            "\n",
            "        FAKE       0.93      0.93      0.93       628\n",
            "        REAL       0.93      0.93      0.93       639\n",
            "\n",
            "    accuracy                           0.93      1267\n",
            "   macro avg       0.93      0.93      0.93      1267\n",
            "weighted avg       0.93      0.93      0.93      1267\n",
            "\n"
          ],
          "name": "stdout"
        },
        {
          "output_type": "execute_result",
          "data": {
            "text/html": [
              "<div>\n",
              "<style scoped>\n",
              "    .dataframe tbody tr th:only-of-type {\n",
              "        vertical-align: middle;\n",
              "    }\n",
              "\n",
              "    .dataframe tbody tr th {\n",
              "        vertical-align: top;\n",
              "    }\n",
              "\n",
              "    .dataframe thead th {\n",
              "        text-align: right;\n",
              "    }\n",
              "</style>\n",
              "<table border=\"1\" class=\"dataframe\">\n",
              "  <thead>\n",
              "    <tr style=\"text-align: right;\">\n",
              "      <th></th>\n",
              "      <th>0</th>\n",
              "      <th>1</th>\n",
              "    </tr>\n",
              "  </thead>\n",
              "  <tbody>\n",
              "    <tr>\n",
              "      <th>0</th>\n",
              "      <td>584</td>\n",
              "      <td>44</td>\n",
              "    </tr>\n",
              "    <tr>\n",
              "      <th>1</th>\n",
              "      <td>46</td>\n",
              "      <td>593</td>\n",
              "    </tr>\n",
              "  </tbody>\n",
              "</table>\n",
              "</div>"
            ],
            "text/plain": [
              "     0    1\n",
              "0  584   44\n",
              "1   46  593"
            ]
          },
          "metadata": {
            "tags": []
          },
          "execution_count": 26
        }
      ]
    },
    {
      "cell_type": "markdown",
      "metadata": {
        "id": "9E1aJAZ4MgXe",
        "colab_type": "text"
      },
      "source": [
        "**Top 50 n-grams**"
      ]
    },
    {
      "cell_type": "code",
      "metadata": {
        "id": "z1Hd2eAQIyH6",
        "colab_type": "code",
        "colab": {
          "base_uri": "https://localhost:8080/",
          "height": 621
        },
        "outputId": "9bbcc080-0e03-40ba-9008-9c1908a61113"
      },
      "source": [
        "coef = [abs(i) for i in clf.coef_.ravel()]\n",
        "feature_names = vectorizer.get_feature_names()\n",
        "feature_imp = dict(zip(feature_names,coef))\n",
        "feature_imp = {k: v for k, v in sorted(feature_imp.items(), key=lambda item: item[1], reverse=True)}\n",
        "\n",
        "top_50_features = {k: feature_imp[k] for k in list(feature_imp)[0:50]}\n",
        "\n",
        "fig, ax = plt.subplots(figsize=(6,10))\n",
        "\n",
        "people = top_50_features.keys()\n",
        "y_pos = np.arange(len(people))\n",
        "importance = top_50_features.values()\n",
        "\n",
        "ax.barh(y_pos, importance,align='center')\n",
        "ax.set_yticks(y_pos)\n",
        "ax.set_yticklabels(people)\n",
        "ax.invert_yaxis()\n",
        "ax.set_xlabel('Importance')\n",
        "ax.set_ylabel('Features')\n",
        "ax.set_title('Top 50 Features')\n",
        "\n",
        "plt.show()\n"
      ],
      "execution_count": 27,
      "outputs": [
        {
          "output_type": "display_data",
          "data": {
            "image/png": "[encoded data removed]",
            "text/plain": [
              "<Figure size 432x720 with 1 Axes>"
            ]
          },
          "metadata": {
            "tags": [],
            "needs_background": "light"
          }
        }
      ]
    },
    {
      "cell_type": "markdown",
      "metadata": {
        "id": "Qu5IsWBEMooy",
        "colab_type": "text"
      },
      "source": [
        "**Bottom 50 n-grams**"
      ]
    },
    {
      "cell_type": "code",
      "metadata": {
        "id": "tH2nz8WkJGm9",
        "colab_type": "code",
        "colab": {
          "base_uri": "https://localhost:8080/",
          "height": 621
        },
        "outputId": "9770e897-7fea-47cf-be3d-efe617390383"
      },
      "source": [
        "feature_imp = dict(zip(feature_names,coef))\n",
        "feature_imp = {k: v for k, v in sorted(feature_imp.items(), key=lambda item: item[1], reverse=False)}\n",
        "\n",
        "bottom_50_features = {k: feature_imp[k] for k in list(feature_imp)[0:50]}\n",
        "\n",
        "fig, ax = plt.subplots(figsize=(6,10))\n",
        "\n",
        "people = bottom_50_features.keys()\n",
        "y_pos = np.arange(len(people))\n",
        "importance = bottom_50_features.values()\n",
        "\n",
        "ax.barh(y_pos, importance,align='center')\n",
        "ax.set_yticks(y_pos)\n",
        "ax.set_yticklabels(people)\n",
        "ax.invert_yaxis()\n",
        "ax.set_xlabel('Importance')\n",
        "ax.set_ylabel('Features')\n",
        "ax.set_title('Least 50 important features')\n",
        "\n",
        "plt.show()\n"
      ],
      "execution_count": 28,
      "outputs": [
        {
          "output_type": "display_data",
          "data": {
            "image/png": "[encoded data removed]",
            "text/plain": [
              "<Figure size 432x720 with 1 Axes>"
            ]
          },
          "metadata": {
            "tags": [],
            "needs_background": "light"
          }
        }
      ]
    },
    {
      "cell_type": "markdown",
      "metadata": {
        "id": "zuT_nVddNj64",
        "colab_type": "text"
      },
      "source": [
        "**Decision Tree Classifier**"
      ]
    },
    {
      "cell_type": "code",
      "metadata": {
        "id": "qu4t4sItRIYA",
        "colab_type": "code",
        "colab": {
          "base_uri": "https://localhost:8080/",
          "height": 118
        },
        "outputId": "349e4562-e6b2-4ad6-a501-3647672efb57"
      },
      "source": [
        "from sklearn.tree import DecisionTreeClassifier\n",
        "dtree=DecisionTreeClassifier()\n",
        "dtree.fit(X_tr,y_train)"
      ],
      "execution_count": 90,
      "outputs": [
        {
          "output_type": "execute_result",
          "data": {
            "text/plain": [
              "DecisionTreeClassifier(ccp_alpha=0.0, class_weight=None, criterion='gini',\n",
              "                       max_depth=None, max_features=None, max_leaf_nodes=None,\n",
              "                       min_impurity_decrease=0.0, min_impurity_split=None,\n",
              "                       min_samples_leaf=1, min_samples_split=2,\n",
              "                       min_weight_fraction_leaf=0.0, presort='deprecated',\n",
              "                       random_state=None, splitter='best')"
            ]
          },
          "metadata": {
            "tags": []
          },
          "execution_count": 90
        }
      ]
    },
    {
      "cell_type": "code",
      "metadata": {
        "id": "BP79jtKcRIVV",
        "colab_type": "code",
        "colab": {
          "base_uri": "https://localhost:8080/",
          "height": 168
        },
        "outputId": "92de2baf-2c6e-4ff7-9aa0-b1ad5acbaab1"
      },
      "source": [
        "predictions=dtree.predict(X_te)\n",
        "print(classification_report(y_test,predictions))\n"
      ],
      "execution_count": 91,
      "outputs": [
        {
          "output_type": "stream",
          "text": [
            "              precision    recall  f1-score   support\n",
            "\n",
            "        FAKE       0.79      0.78      0.78       628\n",
            "        REAL       0.79      0.79      0.79       639\n",
            "\n",
            "    accuracy                           0.79      1267\n",
            "   macro avg       0.79      0.79      0.79      1267\n",
            "weighted avg       0.79      0.79      0.79      1267\n",
            "\n"
          ],
          "name": "stdout"
        }
      ]
    },
    {
      "cell_type": "code",
      "metadata": {
        "id": "st_tDamNRIR3",
        "colab_type": "code",
        "colab": {
          "base_uri": "https://localhost:8080/",
          "height": 50
        },
        "outputId": "dd24b355-b81b-4bdb-90a9-7055d406430f"
      },
      "source": [
        "print(confusion_matrix(y_test,predictions))"
      ],
      "execution_count": 92,
      "outputs": [
        {
          "output_type": "stream",
          "text": [
            "[[491 137]\n",
            " [134 505]]\n"
          ],
          "name": "stdout"
        }
      ]
    },
    {
      "cell_type": "markdown",
      "metadata": {
        "id": "8aGRfV3jNrcE",
        "colab_type": "text"
      },
      "source": [
        "**RandomForestClassifier**"
      ]
    },
    {
      "cell_type": "code",
      "metadata": {
        "id": "e6bQDsYRRIOy",
        "colab_type": "code",
        "colab": {
          "base_uri": "https://localhost:8080/",
          "height": 151
        },
        "outputId": "af40c83f-d39c-431b-951b-ab787df5a982"
      },
      "source": [
        "from sklearn.ensemble import RandomForestClassifier\n",
        "rfc = RandomForestClassifier(n_estimators=100)\n",
        "rfc.fit(X_tr, y_train)"
      ],
      "execution_count": 93,
      "outputs": [
        {
          "output_type": "execute_result",
          "data": {
            "text/plain": [
              "RandomForestClassifier(bootstrap=True, ccp_alpha=0.0, class_weight=None,\n",
              "                       criterion='gini', max_depth=None, max_features='auto',\n",
              "                       max_leaf_nodes=None, max_samples=None,\n",
              "                       min_impurity_decrease=0.0, min_impurity_split=None,\n",
              "                       min_samples_leaf=1, min_samples_split=2,\n",
              "                       min_weight_fraction_leaf=0.0, n_estimators=100,\n",
              "                       n_jobs=None, oob_score=False, random_state=None,\n",
              "                       verbose=0, warm_start=False)"
            ]
          },
          "metadata": {
            "tags": []
          },
          "execution_count": 93
        }
      ]
    },
    {
      "cell_type": "code",
      "metadata": {
        "id": "Rh-0Ts0pRIMF",
        "colab_type": "code",
        "colab": {
          "base_uri": "https://localhost:8080/",
          "height": 168
        },
        "outputId": "6c09dbfa-fa4e-4fbb-d509-96b300173015"
      },
      "source": [
        "rfc_pred=rfc.predict(X_te)\n",
        "print(classification_report(y_test,rfc_pred))"
      ],
      "execution_count": 94,
      "outputs": [
        {
          "output_type": "stream",
          "text": [
            "              precision    recall  f1-score   support\n",
            "\n",
            "        FAKE       0.91      0.92      0.92       628\n",
            "        REAL       0.92      0.91      0.92       639\n",
            "\n",
            "    accuracy                           0.92      1267\n",
            "   macro avg       0.92      0.92      0.92      1267\n",
            "weighted avg       0.92      0.92      0.92      1267\n",
            "\n"
          ],
          "name": "stdout"
        }
      ]
    },
    {
      "cell_type": "code",
      "metadata": {
        "id": "EAdyHx5eRIKu",
        "colab_type": "code",
        "colab": {
          "base_uri": "https://localhost:8080/",
          "height": 50
        },
        "outputId": "2f0286e3-bb7f-48be-f82d-951a85f2c59e"
      },
      "source": [
        "print(confusion_matrix(y_test,rfc_pred))"
      ],
      "execution_count": 95,
      "outputs": [
        {
          "output_type": "stream",
          "text": [
            "[[577  51]\n",
            " [ 55 584]]\n"
          ],
          "name": "stdout"
        }
      ]
    },
    {
      "cell_type": "markdown",
      "metadata": {
        "id": "NiTN7SV2N1BV",
        "colab_type": "text"
      },
      "source": [
        "**Support Vector Machines**"
      ]
    },
    {
      "cell_type": "code",
      "metadata": {
        "id": "tDzhywtxWF6H",
        "colab_type": "code",
        "colab": {
          "base_uri": "https://localhost:8080/",
          "height": 84
        },
        "outputId": "305ea21b-d9f9-48c6-b13e-5bea391003b4"
      },
      "source": [
        "from sklearn.svm import SVC\n",
        "svc_model = SVC()\n",
        "svc_model.fit(X_tr,y_train)"
      ],
      "execution_count": 96,
      "outputs": [
        {
          "output_type": "execute_result",
          "data": {
            "text/plain": [
              "SVC(C=1.0, break_ties=False, cache_size=200, class_weight=None, coef0=0.0,\n",
              "    decision_function_shape='ovr', degree=3, gamma='scale', kernel='rbf',\n",
              "    max_iter=-1, probability=False, random_state=None, shrinking=True,\n",
              "    tol=0.001, verbose=False)"
            ]
          },
          "metadata": {
            "tags": []
          },
          "execution_count": 96
        }
      ]
    },
    {
      "cell_type": "code",
      "metadata": {
        "id": "nOamgFykWYu-",
        "colab_type": "code",
        "colab": {
          "base_uri": "https://localhost:8080/",
          "height": 50
        },
        "outputId": "3ecb58df-ff85-4ce0-b3cf-1df6a5b0d896"
      },
      "source": [
        "predictions=svc_model.predict(X_te)\n",
        "print(confusion_matrix(y_test,predictions))"
      ],
      "execution_count": 97,
      "outputs": [
        {
          "output_type": "stream",
          "text": [
            "[[591  37]\n",
            " [ 49 590]]\n"
          ],
          "name": "stdout"
        }
      ]
    },
    {
      "cell_type": "code",
      "metadata": {
        "id": "1IDeL95oWYrd",
        "colab_type": "code",
        "colab": {
          "base_uri": "https://localhost:8080/",
          "height": 168
        },
        "outputId": "24841829-2f7e-472a-ae85-28da296bb7e5"
      },
      "source": [
        "print(classification_report(y_test,predictions))"
      ],
      "execution_count": 98,
      "outputs": [
        {
          "output_type": "stream",
          "text": [
            "              precision    recall  f1-score   support\n",
            "\n",
            "        FAKE       0.92      0.94      0.93       628\n",
            "        REAL       0.94      0.92      0.93       639\n",
            "\n",
            "    accuracy                           0.93      1267\n",
            "   macro avg       0.93      0.93      0.93      1267\n",
            "weighted avg       0.93      0.93      0.93      1267\n",
            "\n"
          ],
          "name": "stdout"
        }
      ]
    }
  ]
}